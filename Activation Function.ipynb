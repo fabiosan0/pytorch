{
 "cells": [
  {
   "cell_type": "markdown",
   "id": "804c199a",
   "metadata": {},
   "source": [
    "# Activation Functions"
   ]
  },
  {
   "cell_type": "code",
   "execution_count": 4,
   "id": "dafc7f71",
   "metadata": {},
   "outputs": [],
   "source": [
    "import torch as torch\n",
    "import torch.nn as nn\n",
    "import numpy as np"
   ]
  },
  {
   "cell_type": "markdown",
   "id": "2f4b14e7",
   "metadata": {},
   "source": [
    "# Sigmoid\n",
    "Advantages\n",
    "\n",
    "    output range is (0,1)\n",
    "    converts large negative toward 0 and large positive toward 1\n",
    "    returns 0.5 for input 0 Pros\n",
    "    it is nonlinear in nature\n",
    "    the output is between 0 and 1\n",
    "    it has smooth gradient\n",
    "    good for classification\n",
    "\n",
    "Disadvantages\n",
    "\n",
    "    Y changes very less at either end.\n",
    "    vanishing gradient problem\n",
    "    computationally expensive\n",
    "    non zero centered thus optimization is harder\n"
   ]
  },
  {
   "cell_type": "code",
   "execution_count": 37,
   "id": "591aaa94",
   "metadata": {},
   "outputs": [
    {
     "name": "stdout",
     "output_type": "stream",
     "text": [
      "tensor([-0.0747, -0.3188])\n",
      "tensor([0.4813, 0.4210])\n"
     ]
    }
   ],
   "source": [
    "m = nn.Sigmoid()\n",
    "input = torch.randn(2)\n",
    "output = m(input)\n",
    "print(input)\n",
    "print(output)"
   ]
  },
  {
   "cell_type": "markdown",
   "id": "466f934d",
   "metadata": {},
   "source": [
    "# Tanh\n",
    "Features\n",
    "\n",
    "    output values in the range of (-1,1)\n",
    "\n",
    "Pros\n",
    "\n",
    "    The main difference with sigmoid is-- it is zero centered; thus optimization is easier than sigmoid\n",
    "    stronger gradient than sigmoid\n",
    "\n",
    "Cons\n",
    "\n",
    "    It also has vanishing gradient issue\n"
   ]
  },
  {
   "cell_type": "code",
   "execution_count": 43,
   "id": "bcdb2de0",
   "metadata": {},
   "outputs": [
    {
     "name": "stdout",
     "output_type": "stream",
     "text": [
      "tensor([ 1.9897, -2.8444])\n",
      "tensor([ 0.9633, -0.9933])\n"
     ]
    }
   ],
   "source": [
    "m = nn.Tanh()\n",
    "input = torch.randn(2)\n",
    "output = m(input)\n",
    "print(input)\n",
    "print(output)"
   ]
  },
  {
   "cell_type": "markdown",
   "id": "f5627457",
   "metadata": {},
   "source": [
    "# ReLU \n",
    "#Relu is an activation function that returns 0 for negative numbers\n",
    "#Advantages include faster calculation and  reduced chance of vanishing gradient\n",
    "#Disadvantage is that you could have several nodes always returning zero for negative numbers (dying ReLU)\n",
    "#and can only be used in hidden layer"
   ]
  },
  {
   "cell_type": "code",
   "execution_count": 6,
   "id": "5abca19e",
   "metadata": {},
   "outputs": [],
   "source": [
    "\n",
    "\n",
    "#initialize our neural network\n",
    "def __init__(self):\n",
    "        super(Net, self).__init__()\n",
    "        self.model=Sequential(\n",
    "\n",
    "         #hidden Layer 1   \n",
    "         nn.Linear(4,5),\n",
    "          nn.ReLU(),\n",
    "\n",
    "          #hidden layer 2\n",
    "          nn.Linear(5, 3),\n",
    "          nn.ReLU(),\n",
    "\n",
    "          \n",
    "          nn.Linear(3, 1)\n",
    "\n",
    "        )\n"
   ]
  },
  {
   "cell_type": "code",
   "execution_count": 24,
   "id": "27ba2c19",
   "metadata": {},
   "outputs": [
    {
     "name": "stdout",
     "output_type": "stream",
     "text": [
      "Testing ReLU with random numbers\n",
      "Initial input to ReLU: \n",
      "tensor([-0.8611,  0.6728])\n",
      "Initial output of ReLU: \n",
      "tensor([0.0000, 0.6728])\n",
      "------------\n",
      "Testing ReLU with negative numbers\n",
      "Input to ReLU after unsqueeze (adds dimension): \n",
      "tensor([[-0.7964, -0.0486]])\n",
      "Output of ReLU with negative numbered inputs:\n",
      "tensor([[0.0000, 0.0000],\n",
      "        [0.7964, 0.0486]])\n"
     ]
    }
   ],
   "source": [
    "#example, create a tensor filled with 2 random numbers \n",
    "m = nn.ReLU()\n",
    "input = torch.randn(2)\n",
    "output = m(input)\n",
    "print('Testing ReLU with random numbers')\n",
    "print('Initial input to ReLU: ')\n",
    "print(input)\n",
    "print('Initial output of ReLU: ')\n",
    "print(output)\n",
    "\n",
    "print('------------')\n",
    "#Scenario with negative inputs\n",
    "print('Testing ReLU with negative numbers')\n",
    "m = nn.ReLU()\n",
    "\n",
    "input = torch.randn(2).unsqueeze(0)\n",
    "print('Input to ReLU after unsqueeze (adds dimension): ')\n",
    "print(input)\n",
    "\n",
    "#add an extra dimension with negative of input\n",
    "output = torch.cat((m(input),m(-input)))\n",
    "print(\"Output of ReLU with negative numbered inputs:\")\n",
    "print(output)"
   ]
  },
  {
   "cell_type": "markdown",
   "id": "d07ea055",
   "metadata": {},
   "source": [
    "# LeakyReLU\n",
    "LeakyReLU allows for small negative numbers, preventing dying ReLU problem\n",
    "Convergence is faster"
   ]
  },
  {
   "cell_type": "code",
   "execution_count": 31,
   "id": "d324960b",
   "metadata": {},
   "outputs": [
    {
     "name": "stdout",
     "output_type": "stream",
     "text": [
      "tensor([-1.8515,  0.6407])\n",
      "tensor([-0.0185,  0.6407])\n"
     ]
    }
   ],
   "source": [
    "m = nn.LeakyReLU()\n",
    "input = torch.randn(2)\n",
    "output = m(input)\n",
    "print(input)\n",
    "print(output)"
   ]
  },
  {
   "cell_type": "markdown",
   "id": "e77465c6",
   "metadata": {},
   "source": [
    "## SoftMax\n",
    "SoftMax function can be used in output layer to yield probabilities for classification problems (used in training)\n",
    "ArgMax can be used after training to yield 1 or 0 values in classification problems\n"
   ]
  },
  {
   "cell_type": "code",
   "execution_count": 5,
   "id": "3df22db7",
   "metadata": {},
   "outputs": [
    {
     "name": "stdout",
     "output_type": "stream",
     "text": [
      "[0.0021657  0.00588697 0.11824302 0.87370431]\n"
     ]
    }
   ],
   "source": [
    "\n",
    "def softmax(xs):\n",
    "    return np.exp(xs) / sum(np.exp(xs))\n",
    "\n",
    "xs = np.array([-1, 0, 3, 5])\n",
    "print(softmax(xs)) # [0.0021657, 0.00588697, 0.11824302, 0.87370431]"
   ]
  },
  {
   "cell_type": "code",
   "execution_count": null,
   "id": "fd055f14",
   "metadata": {},
   "outputs": [],
   "source": []
  }
 ],
 "metadata": {
  "kernelspec": {
   "display_name": "Python 3 (ipykernel)",
   "language": "python",
   "name": "python3"
  },
  "language_info": {
   "codemirror_mode": {
    "name": "ipython",
    "version": 3
   },
   "file_extension": ".py",
   "mimetype": "text/x-python",
   "name": "python",
   "nbconvert_exporter": "python",
   "pygments_lexer": "ipython3",
   "version": "3.9.16"
  }
 },
 "nbformat": 4,
 "nbformat_minor": 5
}
