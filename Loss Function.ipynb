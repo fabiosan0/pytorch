{
 "cells": [
  {
   "cell_type": "markdown",
   "id": "d81597fe",
   "metadata": {},
   "source": [
    "# Loss functions\n",
    "There are two main loss functions used in neural networks.\n",
    "For regression problems that need to predict a value, Mean Squared Error is used.\n",
    "For classification problems, Cross Entropy is used."
   ]
  },
  {
   "cell_type": "code",
   "execution_count": null,
   "id": "e6801c89",
   "metadata": {},
   "outputs": [],
   "source": [
    "#MSE\n",
    "# calculate mean squared error\n",
    "def mean_squared_error(actual, predicted):\n",
    "\tsum_square_error = 0.0\n",
    "\tfor i in range(len(actual)):\n",
    "\t\tsum_square_error += (actual[i] - predicted[i])**2.0\n",
    "\tmean_square_error = 1.0 / len(actual) * sum_square_error\n",
    "\treturn mean_square_error"
   ]
  },
  {
   "cell_type": "code",
   "execution_count": null,
   "id": "40f9ef4e",
   "metadata": {},
   "outputs": [],
   "source": [
    "#Binary Cross Entropy\n",
    "from math import log\n",
    "\n",
    "# calculate binary cross entropy\n",
    "def binary_cross_entropy(actual, predicted):\n",
    "\tsum_score = 0.0\n",
    "\tfor i in range(len(actual)):\n",
    "\t\tsum_score += actual[i] * log(1e-15 + predicted[i])\n",
    "\tmean_sum_score = 1.0 / len(actual) * sum_score\n",
    "\treturn -mean_sum_score"
   ]
  },
  {
   "cell_type": "code",
   "execution_count": null,
   "id": "d3878006",
   "metadata": {},
   "outputs": [],
   "source": [
    "#multi-class classification Cross Entropy\n",
    "from math import log\n",
    "\n",
    "# calculate categorical cross entropy\n",
    "def categorical_cross_entropy(actual, predicted):\n",
    "\tsum_score = 0.0\n",
    "\tfor i in range(len(actual)):\n",
    "\t\tfor j in range(len(actual[i])):\n",
    "\t\t\tsum_score += actual[i][j] * log(1e-15 + predicted[i][j])\n",
    "\tmean_sum_score = 1.0 / len(actual) * sum_score\n",
    "\treturn -mean_sum_score"
   ]
  }
 ],
 "metadata": {
  "kernelspec": {
   "display_name": "Python 3 (ipykernel)",
   "language": "python",
   "name": "python3"
  },
  "language_info": {
   "codemirror_mode": {
    "name": "ipython",
    "version": 3
   },
   "file_extension": ".py",
   "mimetype": "text/x-python",
   "name": "python",
   "nbconvert_exporter": "python",
   "pygments_lexer": "ipython3",
   "version": "3.9.16"
  }
 },
 "nbformat": 4,
 "nbformat_minor": 5
}
