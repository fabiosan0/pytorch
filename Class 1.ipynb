{
 "cells": [
  {
   "cell_type": "markdown",
   "id": "a490def3",
   "metadata": {},
   "source": [
    "# Pytorch Tensors"
   ]
  },
  {
   "cell_type": "code",
   "execution_count": 10,
   "id": "2f2e05d4",
   "metadata": {},
   "outputs": [
    {
     "name": "stdout",
     "output_type": "stream",
     "text": [
      "tensor(4.5000)\n",
      "<class 'torch.Tensor'>\n"
     ]
    }
   ],
   "source": [
    "import torch\n",
    "\n",
    "#create simple tensor with one dimension of value 1.5\n",
    "x= torch.tensor(1.5)\n",
    "\n",
    "#arithmetic operation, y becomes type tensor\n",
    "y=x*3\n",
    "print(y)\n",
    "print(type(y))"
   ]
  },
  {
   "cell_type": "code",
   "execution_count": 11,
   "id": "70cf98bc",
   "metadata": {},
   "outputs": [
    {
     "name": "stdout",
     "output_type": "stream",
     "text": [
      "tensor([[0, 0, 0, 0],\n",
      "        [0, 0, 0, 0]], dtype=torch.int32)\n",
      "tensor([[[1., 1.],\n",
      "         [1., 1.],\n",
      "         [1., 1.]],\n",
      "\n",
      "        [[1., 1.],\n",
      "         [1., 1.],\n",
      "         [1., 1.]]], dtype=torch.float64)\n"
     ]
    }
   ],
   "source": [
    "#create tensor of dimension 2,4 with zeros\n",
    "z=torch.zeros([2, 4], dtype=torch.int32)\n",
    "\n",
    "#create tensor of dimension 2,3,2 with 1s\n",
    "o=torch.ones([2,3,2], dtype=torch.float64)\n",
    "\n",
    "#you can think of tensor dimensions starting from back to front, columns -> rows -> rows\n",
    "print(z)\n",
    "print(o)"
   ]
  },
  {
   "cell_type": "code",
   "execution_count": 12,
   "id": "9bda4ed1",
   "metadata": {},
   "outputs": [
    {
     "name": "stdout",
     "output_type": "stream",
     "text": [
      "tensor([[1, 2, 3],\n",
      "        [4, 5, 6]])\n"
     ]
    }
   ],
   "source": [
    "#you can convert an numpy array to a tensor\n",
    "import numpy as np\n",
    "y=torch.tensor(np.array([[1,2,3],[4,5,6]]))\n",
    "print(y)"
   ]
  },
  {
   "cell_type": "markdown",
   "id": "943856fb",
   "metadata": {},
   "source": [
    "# Use of autograd"
   ]
  },
  {
   "cell_type": "code",
   "execution_count": 13,
   "id": "1759e50d",
   "metadata": {},
   "outputs": [
    {
     "name": "stdout",
     "output_type": "stream",
     "text": [
      "x : tensor(2., requires_grad=True)\n",
      "y. : tensor(10., grad_fn=<AddBackward0>)\n"
     ]
    }
   ],
   "source": [
    "import numpy as np\n",
    "#when you create a tensor with requires_grad = true, all operations are tracked\n",
    "#y = x^2 + 3x\n",
    "x=torch.tensor(2.0, requires_grad=True)\n",
    "y=x**2+3*x\n",
    "print('x :', x)\n",
    "print('y. :', y)"
   ]
  },
  {
   "cell_type": "code",
   "execution_count": 14,
   "id": "72a74ae6",
   "metadata": {},
   "outputs": [
    {
     "name": "stdout",
     "output_type": "stream",
     "text": [
      "tensor(110., grad_fn=<AddBackward0>)\n"
     ]
    }
   ],
   "source": [
    "#dy/dx(x^2+3x) = 2x+3\n",
    "#dy/dx at x=2.0 = 7\n",
    "#Lets make a new calculation using y (y currently =10)\n",
    "z=y**2 +y\n",
    "print(z)"
   ]
  },
  {
   "cell_type": "code",
   "execution_count": 15,
   "id": "0dd1b239",
   "metadata": {},
   "outputs": [],
   "source": [
    "#Computes the gradient of current tensor w.r.t. graph leaves\n",
    "#This step calculates the derivative of z=y^2+y, where y=x^2+3x, or z=(x^2+3x)^2+(x^2+3x)\n",
    "z.backward(retain_graph=True)"
   ]
  },
  {
   "cell_type": "code",
   "execution_count": 16,
   "id": "d49cdae1",
   "metadata": {},
   "outputs": [
    {
     "data": {
      "text/plain": [
       "tensor(147.)"
      ]
     },
     "execution_count": 16,
     "metadata": {},
     "output_type": "execute_result"
    }
   ],
   "source": [
    "#show the gradient computed for x\n",
    "#this will be the derivate of (x^2+3x)^2+(x^2+3x) which is = 4x^3+18x^2+20x+3, where x=2\n",
    "x.grad"
   ]
  },
  {
   "cell_type": "code",
   "execution_count": 8,
   "id": "2dbb88f8",
   "metadata": {},
   "outputs": [
    {
     "data": {
      "text/plain": [
       "tensor(154.)"
      ]
     },
     "execution_count": 8,
     "metadata": {},
     "output_type": "execute_result"
    }
   ],
   "source": [
    "#Computes the gradient of current tensor w.r.t. graph leaves\n",
    "#This will use gradient accumulation so result will be 147 + y\n",
    "#remember that y = 7 at x=2\n",
    "\n",
    "y.backward()\n",
    "x.grad"
   ]
  },
  {
   "cell_type": "code",
   "execution_count": 17,
   "id": "d0f36670",
   "metadata": {},
   "outputs": [
    {
     "data": {
      "text/plain": [
       "tensor(7.)"
      ]
     },
     "execution_count": 17,
     "metadata": {},
     "output_type": "execute_result"
    }
   ],
   "source": [
    "#if we reset the graph before performing the backwards computation on y, we get original y value at x=2\n",
    "#To test this, you need to run the full code again but skip the previous code block \n",
    "x.grad.zero_()\n",
    "y.backward()\n",
    "x.grad"
   ]
  },
  {
   "cell_type": "code",
   "execution_count": null,
   "id": "81bfaa35",
   "metadata": {},
   "outputs": [],
   "source": []
  }
 ],
 "metadata": {
  "kernelspec": {
   "display_name": "Python 3",
   "language": "python",
   "name": "python3"
  },
  "language_info": {
   "codemirror_mode": {
    "name": "ipython",
    "version": 3
   },
   "file_extension": ".py",
   "mimetype": "text/x-python",
   "name": "python",
   "nbconvert_exporter": "python",
   "pygments_lexer": "ipython3",
   "version": "3.9.6 (default, Oct 18 2022, 12:41:40) \n[Clang 14.0.0 (clang-1400.0.29.202)]"
  },
  "vscode": {
   "interpreter": {
    "hash": "31f2aee4e71d21fbe5cf8b01ff0e069b9275f58929596ceb00d14d90e3e16cd6"
   }
  }
 },
 "nbformat": 4,
 "nbformat_minor": 5
}
